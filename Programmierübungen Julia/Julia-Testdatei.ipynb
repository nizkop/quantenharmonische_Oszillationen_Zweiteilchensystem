{
 "cells": [
  {
   "cell_type": "code",
   "execution_count": null,
   "metadata": {},
   "outputs": [],
   "source": []
  },
  {
   "cell_type": "code",
   "execution_count": null,
   "metadata": {},
   "outputs": [],
   "source": []
  },
  {
   "cell_type": "markdown",
   "metadata": {},
   "source": [
    "# GPT-Übungen\n",
    "## Aufgabenblatt 1\n",
    "### Nr. 1 - booleans "
   ]
  },
  {
   "cell_type": "code",
   "execution_count": 30,
   "metadata": {},
   "outputs": [
    {
     "data": {
      "text/plain": [
       "true"
      ]
     },
     "execution_count": 30,
     "metadata": {},
     "output_type": "execute_result"
    }
   ],
   "source": [
    "a = false\n",
    "b = false\n",
    "c = true"
   ]
  },
  {
   "cell_type": "code",
   "execution_count": 29,
   "metadata": {},
   "outputs": [
    {
     "name": "stdout",
     "output_type": "stream",
     "text": [
      "false \n",
      "false\n"
     ]
    }
   ],
   "source": [
    "#a) python: (a and a) or (b and b)     wird in Julia zu: \n",
    "println( (a && a) && (b && b))\n",
    "# wird zu:\n",
    "println( a || b )"
   ]
  },
  {
   "cell_type": "markdown",
   "metadata": {},
   "source": [
    "a && b ist falsch, sobald a falsch ist (b nicht mehr getestet)   \n",
    "a || b ist richtig, sobald a richtig ist (b nicht mehr getestet)\n",
    "\n",
    "println() schreibt je neue Zeile, print() hat kein default-Ende"
   ]
  },
  {
   "cell_type": "code",
   "execution_count": 36,
   "metadata": {},
   "outputs": [
    {
     "data": {
      "text/plain": [
       "true"
      ]
     },
     "execution_count": 36,
     "metadata": {},
     "output_type": "execute_result"
    }
   ],
   "source": [
    "#b) python:   ( a and b) or ( a and c) \n",
    "(a && b) || (a && c)\n",
    "\n",
    "# c) not (a < b) or (a == b)\n",
    "!(a < b) || (a == b)"
   ]
  },
  {
   "cell_type": "markdown",
   "metadata": {},
   "source": [
    "umgekehrter boolean durch ! "
   ]
  },
  {
   "cell_type": "code",
   "execution_count": 43,
   "metadata": {},
   "outputs": [
    {
     "name": "stdout",
     "output_type": "stream",
     "text": [
      "true\n",
      "true"
     ]
    }
   ],
   "source": [
    "#d) (not (a < b) and not (a > b) )\n",
    "a = 1\n",
    "b = 1\n",
    "println( (!(a < b) && ! (a > b) ) )\n",
    "print(a == b)"
   ]
  },
  {
   "cell_type": "code",
   "execution_count": 50,
   "metadata": {},
   "outputs": [
    {
     "name": "stdout",
     "output_type": "stream",
     "text": [
      "true\n"
     ]
    }
   ],
   "source": [
    "#e) (not (a and b) and (a or b)) or ((a and b) or not (a or b))\n",
    "a = true\n",
    "b = false\n",
    "println( (! (a && b) && (a || b)) || ((a && b) || ! (a || b)) )#immer wahr"
   ]
  },
  {
   "cell_type": "markdown",
   "metadata": {},
   "source": [
    "### Nr. 2 - Bedingung"
   ]
  },
  {
   "cell_type": "code",
   "execution_count": 63,
   "metadata": {},
   "outputs": [
    {
     "name": "stdout",
     "output_type": "stream",
     "text": [
      "stdin> 1\n",
      "stdin> 5\n",
      "True\n"
     ]
    }
   ],
   "source": [
    "a = parse(Int64, readline())\n",
    "b = parse(Float64, readline())\n",
    "\n",
    "#\n",
    "if a % b == 0 || b % a == 0\n",
    "    println(\"True\")\n",
    "else\n",
    "    println(\"False\")\n",
    "end"
   ]
  },
  {
   "cell_type": "markdown",
   "metadata": {},
   "source": [
    "readline() für Benutzereingabe, parse und Format nötig für Umwandlung in Zahl-Datentyp"
   ]
  },
  {
   "cell_type": "markdown",
   "metadata": {},
   "source": [
    "### Nr. 3 - Eingabe, Ausgabe"
   ]
  },
  {
   "cell_type": "code",
   "execution_count": 2,
   "metadata": {},
   "outputs": [
    {
     "name": "stdout",
     "output_type": "stream",
     "text": [
      "stdin> 7464643\n",
      "7.464643e6 Sekunden sind 0.0 Jahr(e), 86.0 Tag(e), 9.0 Stunde(n), 30.0 Minute(n) und 43.0 Sekunde(n)."
     ]
    }
   ],
   "source": [
    "zeit = parse(Float64, readline()) #in Sekunden\n",
    "print(zeit, \" Sekunden sind \")\n",
    "anno = div(zeit, 3600*365*24)\n",
    "zeit = zeit % (3600*24*365)\n",
    "days = div( zeit, 3600*24)\n",
    "zeit = zeit % (3600*24)\n",
    "h = div( zeit, 3600)\n",
    "zeit = zeit% 3600\n",
    "min = div( zeit, 60)\n",
    "sec = zeit % 60\n",
    "\n",
    "print(anno, \" Jahr(e), \", days, \" Tag(e), \",\n",
    "    h, \" Stunde(n), \", min, \" Minute(n) und \", sec, \" Sekunde(n).\")"
   ]
  },
  {
   "cell_type": "markdown",
   "metadata": {},
   "source": [
    "div(zahl1, zahl) für Ganzzahldivision, % für Rest der Ganzzahldivision"
   ]
  },
  {
   "cell_type": "markdown",
   "metadata": {},
   "source": [
    "## Aufgabenblatt 2 \n",
    "### Nr. 1 - sortieren, einlesen, schleife"
   ]
  },
  {
   "cell_type": "code",
   "execution_count": 17,
   "metadata": {},
   "outputs": [
    {
     "name": "stdout",
     "output_type": "stream",
     "text": [
      "stdin> wer\n",
      "stdin> werasd\n",
      "stdin> sdfwer\n",
      "Any[\"wer\", \"werasd\", \"sdfwer\"] Any[\"sdfwer\", \"wer\", \"werasd\"]"
     ]
    }
   ],
   "source": [
    "A = []\n",
    "\n",
    "for i in 1:3\n",
    "    append!(A, [readline()])\n",
    "end\n",
    "\n",
    "#print(A, \" \", sort(A))"
   ]
  },
  {
   "cell_type": "code",
   "execution_count": 19,
   "metadata": {},
   "outputs": [
    {
     "name": "stdout",
     "output_type": "stream",
     "text": [
      "sdfwer\n",
      "wer\n",
      "werasd\n"
     ]
    }
   ],
   "source": [
    "#Möglichkeit 1: \n",
    "if A[3] < A[1] && A[3] < A[2]\n",
    "    println(A[3])\n",
    "    if A[1] < A[2]\n",
    "        println(A[1])\n",
    "        println(A[2])\n",
    "    else\n",
    "        println(A[1])\n",
    "        println(A[2])\n",
    "    end\n",
    "end\n",
    "if A[1] < A[3] && A[1] < A[2]\n",
    "    println(A[1])\n",
    "    if A[0] < A[2]\n",
    "        println(A[3])\n",
    "        println(A[2])\n",
    "    else\n",
    "        println(A[3])\n",
    "        println(A[2])\n",
    "    end\n",
    "end\n",
    "if A[2] < A[3] && A[2] < A[2]\n",
    "    println(A[2])\n",
    "    if A[3] < A[1]\n",
    "        println(A[3])\n",
    "        println(A[1])\n",
    "    else\n",
    "        println(A[1])\n",
    "        println(A[3])\n",
    "    end\n",
    "end"
   ]
  },
  {
   "cell_type": "code",
   "execution_count": 20,
   "metadata": {},
   "outputs": [
    {
     "name": "stdout",
     "output_type": "stream",
     "text": [
      "sdfwer\n",
      "wer\n",
      "werasd\n"
     ]
    }
   ],
   "source": [
    "#Möglichkeit 2: \n",
    "for i in sort(A)\n",
    "    println(i)\n",
    "end"
   ]
  },
  {
   "cell_type": "markdown",
   "metadata": {},
   "source": [
    "Arrayindizes startend bei 1, \n",
    "Array sortieren mit sort(array);   \n",
    "append!([vorhandener Teil], [neu])"
   ]
  },
  {
   "cell_type": "markdown",
   "metadata": {},
   "source": [
    "### Nr. 2  - Aufforderung, Eingabe, Ausgabe"
   ]
  },
  {
   "cell_type": "code",
   "execution_count": 23,
   "metadata": {},
   "outputs": [
    {
     "name": "stdout",
     "output_type": "stream",
     "text": [
      "Dieses Programm beerechnet die Summe der eingegebenen Zahlen. Eingabe 0 beeindet das Programm.\n",
      "stdin> 1\n",
      "stdin> 2\n",
      "stdin> 3\n",
      "stdin> 0\n",
      "Summe: 6\n"
     ]
    }
   ],
   "source": [
    "println(\"Dieses Programm beerechnet die Summe der eingegebenen Zahlen. Eingabe 0 beeindet das Programm.\")\n",
    "ges = 0\n",
    "zahl = 1\n",
    "while zahl != 0\n",
    "    zahl = parse( Int64, readline())\n",
    "    ges = ges + zahl\n",
    "end\n",
    "\n",
    "println(\"Summe: \", ges)"
   ]
  },
  {
   "cell_type": "markdown",
   "metadata": {},
   "source": [
    "while-Schleife analog zur for schleife, Ende mit end, ansonsten eingerückt"
   ]
  },
  {
   "cell_type": "markdown",
   "metadata": {},
   "source": [
    "### Nr. 3 - Zahlenreihe ohne if"
   ]
  },
  {
   "cell_type": "code",
   "execution_count": 24,
   "metadata": {},
   "outputs": [
    {
     "name": "stdout",
     "output_type": "stream",
     "text": [
      "stdin> 3\n",
      "3\n",
      "6\n",
      "9\n",
      "12\n",
      "15\n",
      "18\n",
      "21\n",
      "24\n",
      "27\n",
      "30\n"
     ]
    }
   ],
   "source": [
    "z = parse(Int64, readline())\n",
    "\n",
    "for i in 1:10\n",
    "    println(i*z)\n",
    "end"
   ]
  },
  {
   "cell_type": "markdown",
   "metadata": {},
   "source": [
    "range durch    Anfangszahl:Endzahl     (je inklusive)"
   ]
  },
  {
   "cell_type": "markdown",
   "metadata": {},
   "source": [
    "## Blatt 3\n",
    "### Nr. 1 - Teiler"
   ]
  },
  {
   "cell_type": "code",
   "execution_count": 25,
   "metadata": {},
   "outputs": [
    {
     "name": "stdout",
     "output_type": "stream",
     "text": [
      "stdin> 12\n",
      "1\n",
      "2\n",
      "3\n",
      "4\n",
      "6\n"
     ]
    }
   ],
   "source": [
    "z = parse(Int64, readline())\n",
    "\n",
    "for i in 1:(z-1)\n",
    "    if z % i == 0\n",
    "        println(i)\n",
    "    end\n",
    "end"
   ]
  },
  {
   "cell_type": "markdown",
   "metadata": {},
   "source": [
    "### Nr. 2 - Array umkehren"
   ]
  },
  {
   "cell_type": "code",
   "execution_count": 46,
   "metadata": {},
   "outputs": [
    {
     "name": "stdout",
     "output_type": "stream",
     "text": [
      "Any[3, 6, 9, 12, 15, 18, 21, 24, 27, 30]"
     ]
    }
   ],
   "source": [
    "# Array anlegen:\n",
    "z = 3\n",
    "A = []\n",
    "for i in 1:10\n",
    "    append!(A, [i*z])\n",
    "end\n",
    "print(A)"
   ]
  },
  {
   "cell_type": "code",
   "execution_count": 48,
   "metadata": {},
   "outputs": [
    {
     "name": "stdout",
     "output_type": "stream",
     "text": [
      "Any[30, 27, 24, 21, 18, 15, 12, 9, 6, 3]"
     ]
    }
   ],
   "source": [
    "for i in 1:div(length(A),2)\n",
    "    t = A[i]\n",
    "    A[i] = A[length(A)-i+1]\n",
    "    A[length(A)-i+1] = t    \n",
    "end\n",
    "print(A)"
   ]
  },
  {
   "cell_type": "markdown",
   "metadata": {},
   "source": [
    "length() für Arraylänge (ist schon integer)"
   ]
  },
  {
   "cell_type": "markdown",
   "metadata": {},
   "source": [
    "### Nr. 3 - slicing"
   ]
  },
  {
   "cell_type": "code",
   "execution_count": 42,
   "metadata": {},
   "outputs": [
    {
     "name": "stdout",
     "output_type": "stream",
     "text": [
      "Startarray A:    Any[3]\n"
     ]
    },
    {
     "ename": "BoundsError",
     "evalue": "BoundsError: attempt to access 1-element Array{Any,1} at index [1:2]",
     "output_type": "error",
     "traceback": [
      "BoundsError: attempt to access 1-element Array{Any,1} at index [1:2]",
      "",
      "Stacktrace:",
      " [1] throw_boundserror(::Array{Any,1}, ::Tuple{UnitRange{Int32}}) at ./abstractarray.jl:484",
      " [2] checkbounds at ./abstractarray.jl:449 [inlined]",
      " [3] getindex(::Array{Any,1}, ::UnitRange{Int32}) at ./array.jl:737",
      " [4] top-level scope at In[42]:2"
     ]
    }
   ],
   "source": [
    "print(\"Startarray A:    \", A, \"\\n\")\n",
    "print(\"z.B.: A[1:2]:    \",  A[1:2])"
   ]
  },
  {
   "cell_type": "markdown",
   "metadata": {},
   "source": [
    "\"\\n\" als Zeilenumbruch (im print),   \n",
    "slicing in Grundform (Anfang-Ende) \"ganz normal\", aber Anfangs- & Endindex müssen angegeben sein (nicht auslassbar)  oder mit \"end\"   \n",
    "aber !, kein Index -1 für umgekehrte Reihenfolge mögl.: Einschub als 2. Index mit -1 oder Einschub für andere Schrittweite"
   ]
  },
  {
   "cell_type": "code",
   "execution_count": 34,
   "metadata": {},
   "outputs": [
    {
     "name": "stdout",
     "output_type": "stream",
     "text": [
      "Startarray A:    Any[3, 6, 9, 12, 15, 18, 21, 24, 27, 30]\n",
      "z.B.: A[1:2]:    Any[6, 9, 12]\n",
      "z.B.: A[1:2]:    Any[6, 9, 12, 15, 18, 21, 24, 27, 30]\n",
      "z.B.: A[1:2]:    Any[6, 18]\n",
      "z.B.: A[1:2]:    Any[6; 9; 12]"
     ]
    }
   ],
   "source": [
    "# !? \n",
    "\n",
    "print(\"Startarray A:    \", A, \"\\n\")\n",
    "print(\"z.B.: A[1:2]:    \",  A[2:4],\"\\n\")\n",
    "print(\"z.B.: A[1:2]:    \",  A[2:end],\"\\n\")\n",
    "print(\"z.B.: A[1:2]:    \",  A[2:4:8],\"\\n\")#3. Index ändert nur was, wenn er ein weiteres Vielfaches des 2. Index ist\n",
    "print(\"z.B.: A[1:2]:    \",  A[2:4,:])#ändert in vertikalen Vektor um (; = Zeilenumbruch)"
   ]
  },
  {
   "cell_type": "markdown",
   "metadata": {},
   "source": [
    "### Nr. 3.1 - Arrayumkehren per slicing     !?"
   ]
  },
  {
   "cell_type": "code",
   "execution_count": 72,
   "metadata": {},
   "outputs": [
    {
     "name": "stdout",
     "output_type": "stream",
     "text": [
      "1\n"
     ]
    },
    {
     "ename": "BoundsError",
     "evalue": "BoundsError: attempt to access 10-element Array{Int32,1} at index [0:10]",
     "output_type": "error",
     "traceback": [
      "BoundsError: attempt to access 10-element Array{Int32,1} at index [0:10]",
      "",
      "Stacktrace:",
      " [1] throw_boundserror(::Array{Int32,1}, ::Tuple{UnitRange{Int32}}) at ./abstractarray.jl:484",
      " [2] checkbounds at ./abstractarray.jl:449 [inlined]",
      " [3] getindex(::Array{Int32,1}, ::UnitRange{Int32}) at ./array.jl:737",
      " [4] top-level scope at ./In[72]:10"
     ]
    }
   ],
   "source": [
    "A=[3, 6, 9, 12, 15, 18, 21, 24, 27, 30]\n",
    "\n",
    "for i in 1:div(length(A),2)\n",
    "    println(i)\n",
    "    B=A\n",
    "    A = B[1:i-1]#vorne\n",
    "        +B[length(B)-i]#Tausch mit hinten\n",
    "        +B[i+1:(length(A)-i-1)]#Mitte\n",
    "        +B[i]#Tausch mit vorne\n",
    "        B[(length(A)-i+1):end]#hinten\n",
    "    println(A,B)\n",
    "end"
   ]
  },
  {
   "cell_type": "code",
   "execution_count": 2,
   "metadata": {},
   "outputs": [
    {
     "data": {
      "text/plain": [
       "0-element Array{Int32,1}"
      ]
     },
     "execution_count": 2,
     "metadata": {},
     "output_type": "execute_result"
    }
   ],
   "source": [
    "A=[3, 6, 9, 12, 15, 18, 21, 24, 27, 30]\n",
    "A[1:0]"
   ]
  },
  {
   "cell_type": "markdown",
   "metadata": {},
   "source": [
    "## Übung 4\n",
    "### Nr. 1 - Multiplikationstabelle"
   ]
  },
  {
   "cell_type": "code",
   "execution_count": 76,
   "metadata": {},
   "outputs": [
    {
     "name": "stdout",
     "output_type": "stream",
     "text": [
      "stdin> 12\n",
      "stdin> 14\n"
     ]
    },
    {
     "data": {
      "text/plain": [
       "14"
      ]
     },
     "execution_count": 76,
     "metadata": {},
     "output_type": "execute_result"
    }
   ],
   "source": [
    "z1 = parse(Int64, readline())\n",
    "z2= parse(Int64, readline())"
   ]
  },
  {
   "cell_type": "code",
   "execution_count": 80,
   "metadata": {},
   "outputs": [
    {
     "name": "stdout",
     "output_type": "stream",
     "text": [
      "\t12\t13\t14\n",
      "12\t144\t156\t168\n",
      "13\t156\t169\t182\n",
      "14\t168\t182\t196"
     ]
    }
   ],
   "source": [
    "for i in z1:z2\n",
    "    print(\"\\t\", i)\n",
    "end\n",
    "\n",
    "for i in 12:14\n",
    "    print(\"\\n\",i)\n",
    "    for j in 12:14\n",
    "        print(\"\\t\", i*j)\n",
    "    end\n",
    "end"
   ]
  },
  {
   "cell_type": "markdown",
   "metadata": {},
   "source": [
    "### Nr. 2 - 2-dim. Arrays"
   ]
  },
  {
   "cell_type": "code",
   "execution_count": 3,
   "metadata": {},
   "outputs": [
    {
     "name": "stdout",
     "output_type": "stream",
     "text": [
      "Wie viele Wortpaare möchten Sie eingeben: stdin> 2\n",
      "Bitte geben Sie das 1te Wortpaar ein: \n",
      "stdin> a\n",
      "\n",
      "stdin> b\n",
      "Bitte geben Sie das 2te Wortpaar ein: \n",
      "stdin> x\n",
      "\n",
      "stdin> y\n",
      "Any[[\"a\", \"b\"], [\"x\", \"y\"]]"
     ]
    }
   ],
   "source": [
    "print(\"Wie viele Wortpaare möchten Sie eingeben: \")\n",
    "z = parse(Int64, readline())\n",
    "#print(z, \"\\n\")\n",
    "\n",
    "array = []\n",
    "for i in 1:z\n",
    "    print(\"Bitte geben Sie das \", i,\"te Wortpaar ein: \", \"\\n\")\n",
    "    wort1 = readline()\n",
    "    print(\"\\n\")\n",
    "    wort2=readline()\n",
    "    #print(\"\\n\", wort1, \"\\n\", wort2, \"\\n\")\n",
    "    append!(array, [[wort1, wort2]])#! 2 Klammern nötig, damit nicht 2D-Array erstellt wird \n",
    "end\n",
    "print(array)"
   ]
  },
  {
   "cell_type": "code",
   "execution_count": 7,
   "metadata": {},
   "outputs": [
    {
     "name": "stdout",
     "output_type": "stream",
     "text": [
      "Any['x', 'y', 'a', 'b']"
     ]
    }
   ],
   "source": [
    "array2 = []\n",
    "for i in length(array):-1:1\n",
    "   for j in 1:length(array[i])\n",
    "        append!(array2, array[i][j])\n",
    "    end\n",
    "end\n",
    "print(array2)"
   ]
  },
  {
   "cell_type": "code",
   "execution_count": 58,
   "metadata": {},
   "outputs": [
    {
     "name": "stdout",
     "output_type": "stream",
     "text": [
      "Any['b', 'a', 'y', 'x']"
     ]
    }
   ],
   "source": [
    "array3 = []\n",
    "for i in 1:length(array)\n",
    "   for j in length(array[i]):-1:1\n",
    "        append!(array3, array[i][j])\n",
    "    end\n",
    "end\n",
    "print(array3)"
   ]
  },
  {
   "cell_type": "markdown",
   "metadata": {},
   "source": [
    "Rückwärts ablaufende range: Umgedrehte Indizes (= gewünschte Reihenfolge) & dort ein :-1 einschieben"
   ]
  },
  {
   "cell_type": "markdown",
   "metadata": {},
   "source": [
    "## Aufgabenblatt 5\n",
    "### Nr. 1 - I/O"
   ]
  },
  {
   "cell_type": "code",
   "execution_count": 13,
   "metadata": {},
   "outputs": [
    {
     "name": "stdout",
     "output_type": "stream",
     "text": [
      "[\"Zeile 1\", \"bla bl bla\", \"Zeile 3\", \"Zeile 4 \", \"und letzte Zeile 5\"]"
     ]
    }
   ],
   "source": [
    "i = readlines(\"testdatei.txt\")\n",
    "print(i)"
   ]
  },
  {
   "cell_type": "markdown",
   "metadata": {},
   "source": [
    "readlines(\"Dateiname.Dateiformat\") = Lesen gesamter Datei und speichern einzelner Zeilen in Array (Zeilnumbrüche bereits entfernt)"
   ]
  },
  {
   "cell_type": "code",
   "execution_count": 29,
   "metadata": {},
   "outputs": [
    {
     "name": "stdout",
     "output_type": "stream",
     "text": [
      "UInt8[0x67, 0x65, 0x77, 0xc3, 0xbc, 0x6e, 0x73, 0x63, 0x68, 0x74, 0x65, 0x72, 0x20, 0x49, 0x6e, 0x68, 0x61, 0x6c, 0x74]"
     ]
    }
   ],
   "source": [
    "#alternativ:\n",
    "open(\"Dateiname.txt\", \"r\") do io\n",
    "    inhalt = read(io);\n",
    "    print(inhalt)#Variable nur innerhalb der open-Umgebung definiert\n",
    "end"
   ]
  },
  {
   "cell_type": "code",
   "execution_count": 34,
   "metadata": {},
   "outputs": [],
   "source": [
    "#Schreiben in Datei:\n",
    "open(\"Dateiname.txt\", \"w\") do io\n",
    "    for j in 1:2:length(i)\n",
    "        write(io, i[j])\n",
    "        write(io,\"\\n\")\n",
    "    end\n",
    "end"
   ]
  },
  {
   "cell_type": "markdown",
   "metadata": {},
   "source": [
    "### Nr. 2 - Selbstausgabe"
   ]
  },
  {
   "cell_type": "code",
   "execution_count": 50,
   "metadata": {
    "collapsed": true
   },
   "outputs": [
    {
     "name": "stdout",
     "output_type": "stream",
     "text": [
      "import IJulia\n",
      "\n",
      "let\n",
      "    ijulia_kernel_file = joinpath(dirname(pathof(IJulia)), \"kernel.jl\")\n",
      "    this_kernel_file = @__FILE__\n",
      "    if ijulia_kernel_file != this_kernel_file\n",
      "        @warn \"this kernel.jl is different from the one provided by IJulia\" this_kernel_file ijulia_kernel_file\n",
      "    end\n",
      "end\n",
      "\n",
      "# Load InteractiveUtils from the IJulia namespace since @stdlib might not be in LOAD_PATH\n",
      "using IJulia.InteractiveUtils\n",
      "\n",
      "# workaround #60:\n",
      "if Sys.isapple()\n",
      "    ENV[\"PATH\"] = Sys.BINDIR*\":\"*ENV[\"PATH\"]\n",
      "end\n",
      "\n",
      "# the size of truncated output to show should not depend on the terminal\n",
      "# where the kernel is launched, since the display is elsewhere\n",
      "ENV[\"LINES\"] = get(ENV, \"LINES\", 30)\n",
      "ENV[\"COLUMNS\"] = get(ENV, \"COLUMNS\", 80)\n",
      "\n",
      "IJulia.init(ARGS)\n",
      "\n",
      "let startupfile = !isempty(DEPOT_PATH) ? abspath(DEPOT_PATH[1], \"config\", \"startup_ijulia.jl\") : \"\"\n",
      "    isfile(startupfile) && Base.JLOptions().startupfile != 2 && Base.include(Main, startupfile)\n",
      "end\n",
      "\n",
      "# import things that we want visible in IJulia but not in REPL's using IJulia\n",
      "import IJulia: ans, In, Out, clear_history\n",
      "\n",
      "pushdisplay(IJulia.InlineDisplay())\n",
      "\n",
      "ccall(:jl_exit_on_sigint, Cvoid, (Cint,), 0)\n",
      "\n",
      "println(IJulia.orig_stdout[], \"Starting kernel event loops.\")\n",
      "IJulia.watch_stdio()\n",
      "\n",
      "# workaround JuliaLang/julia#4259\n",
      "delete!(task_local_storage(),:SOURCE_PATH)\n",
      "\n",
      "# workaround JuliaLang/julia#6765\n",
      "Core.eval(Base, :(is_interactive = true))\n",
      "\n",
      "# check whether Revise is running and as needed configure it to run before every prompt\n",
      "if isdefined(Main, :Revise)\n",
      "    let mode = get(ENV, \"JULIA_REVISE\", \"auto\")\n",
      "        mode == \"auto\" && IJulia.push_preexecute_hook(Main.Revise.revise)\n",
      "    end\n",
      "end\n",
      "\n",
      "IJulia.waitloop()\n"
     ]
    }
   ],
   "source": [
    "open(PROGRAM_FILE, \"r\") do io\n",
    "    a = readlines(io)\n",
    "    for i in a\n",
    "        print(i, \"\\n\")\n",
    "    end\n",
    "end\n",
    "#funktioniert nur hier nicht wirklich, da über den Julia-Kernel gearbeitet wird\n",
    "#funktioniert aber einwandfrei mit einer Datei"
   ]
  },
  {
   "cell_type": "markdown",
   "metadata": {},
   "source": [
    "PROGRAM_FILE = Dateiname (ggf. Base. noch davor gesetzt)"
   ]
  },
  {
   "cell_type": "markdown",
   "metadata": {},
   "source": [
    "### Nr. 3 - Programmparameter\n",
    "Zugänglich mit ARGS = Array der in der Kommandozeile mit angegebenen Parameter "
   ]
  },
  {
   "cell_type": "code",
   "execution_count": 60,
   "metadata": {
    "collapsed": true
   },
   "outputs": [
    {
     "ename": "ArgumentError",
     "evalue": "ArgumentError: invalid base 10 digit '/' in \"/run/user/1000/jupyter/kernel-05b74b27-11bd-459b-a303-7241b57fab3a.json\"",
     "output_type": "error",
     "traceback": [
      "ArgumentError: invalid base 10 digit '/' in \"/run/user/1000/jupyter/kernel-05b74b27-11bd-459b-a303-7241b57fab3a.json\"",
      "",
      "Stacktrace:",
      " [1] tryparse_internal(::Type{Int64}, ::String, ::Int32, ::Int32, ::Int32, ::Bool) at ./parse.jl:128",
      " [2] #parse#334(::Nothing, ::Function, ::Type{Int64}, ::String) at ./parse.jl:228",
      " [3] parse(::Type{Int64}, ::String) at ./parse.jl:228",
      " [4] top-level scope at In[60]:1"
     ]
    }
   ],
   "source": [
    "anzahl = parse(Int64, ARGS[1])#funktioniert nur mit command line Aufruf\n",
    "array = []\n",
    "#print(anzahl)\n",
    "\n",
    "\n",
    "for i in 1:anzahl\n",
    "    append!(array, [string(readline())])\n",
    "    #! eckige Klammern, da ansonsten jeder Buchstabe einzeln als Arraywert gespeichert wird\n",
    "end\n",
    "\n",
    "print(array)\n",
    "\n",
    "open(\"sortiert.txt\", \"w\") do io\n",
    "    for i in sort(array)\n",
    "\tzeile = string(i) * \"\\n\"\n",
    "        write(io, zeile);\n",
    "    end\n",
    "end"
   ]
  },
  {
   "cell_type": "markdown",
   "metadata": {},
   "source": [
    "string(Zahl) = Zahl in String umwandeln;  \n",
    "\" * \" für Aneinanderhängen von Strings (!= +)"
   ]
  },
  {
   "cell_type": "markdown",
   "metadata": {},
   "source": [
    "sort(array)"
   ]
  },
  {
   "cell_type": "code",
   "execution_count": null,
   "metadata": {},
   "outputs": [],
   "source": [
    "#!? Fehlermeldung fehlt noch"
   ]
  }
 ],
 "metadata": {
  "kernelspec": {
   "display_name": "Julia 1.0.4",
   "language": "julia",
   "name": "julia-1.0"
  },
  "language_info": {
   "file_extension": ".jl",
   "mimetype": "application/julia",
   "name": "julia",
   "version": "1.0.4"
  }
 },
 "nbformat": 4,
 "nbformat_minor": 2
}
